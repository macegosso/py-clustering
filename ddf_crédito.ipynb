{
  "nbformat": 4,
  "nbformat_minor": 0,
  "metadata": {
    "colab": {
      "provenance": [],
      "include_colab_link": true
    },
    "kernelspec": {
      "name": "python3",
      "display_name": "Python 3"
    },
    "language_info": {
      "name": "python"
    }
  },
  "cells": [
    {
      "cell_type": "markdown",
      "metadata": {
        "id": "view-in-github",
        "colab_type": "text"
      },
      "source": [
        "<a href=\"https://colab.research.google.com/github/macegosso/py-clustering/blob/main/ddf_cr%C3%A9dito.ipynb\" target=\"_parent\"><img src=\"https://colab.research.google.com/assets/colab-badge.svg\" alt=\"Open In Colab\"/></a>"
      ]
    },
    {
      "cell_type": "code",
      "source": [
        "#importações\n",
        "import pandas as pd\n",
        "import matplotlib.pyplot as plt\n",
        "import seaborn as sns"
      ],
      "metadata": {
        "id": "voaJELDHIk-k"
      },
      "execution_count": null,
      "outputs": []
    },
    {
      "cell_type": "code",
      "source": [
        "#leitura do df\n",
        "df_credito = pd.read_excel('df_credito_banco.xlsx')\n"
      ],
      "metadata": {
        "id": "U9zHcuTtIodn"
      },
      "execution_count": null,
      "outputs": []
    },
    {
      "cell_type": "code",
      "source": [
        "display(df_credito.isnull().sum())"
      ],
      "metadata": {
        "colab": {
          "base_uri": "https://localhost:8080/",
          "height": 312
        },
        "id": "6OInReRHPojZ",
        "outputId": "2d5ac3bb-195f-43ef-98e7-e1bc9c835844"
      },
      "execution_count": null,
      "outputs": [
        {
          "output_type": "display_data",
          "data": {
            "text/plain": [
              "Atividade                         0\n",
              "Idade                             0\n",
              "Genero                            0\n",
              "Dependentes                       0\n",
              "Escolaridade                      0\n",
              "Estado_civil                      0\n",
              "Renda                             0\n",
              "Categoria_Cartao                  0\n",
              "Meses_cliente                     0\n",
              "Numero_de_Produtos                0\n",
              "Meses_inativos (ultimo ano)       0\n",
              "Numero_contatos (ultimo ano)      0\n",
              "Limite_Credito                    0\n",
              "Divida_Corrente                   0\n",
              "Limite_Disponivel                 0\n",
              "Numero_transacoes (ultimo ano)    0\n",
              "dtype: int64"
            ]
          },
          "metadata": {}
        }
      ]
    },
    {
      "cell_type": "code",
      "source": [
        "display(df_credito.info())"
      ],
      "metadata": {
        "colab": {
          "base_uri": "https://localhost:8080/",
          "height": 434
        },
        "id": "AiSdKSgYPxEB",
        "outputId": "d6178ade-c874-4c1e-cbfa-27df651caaba"
      },
      "execution_count": null,
      "outputs": [
        {
          "output_type": "stream",
          "name": "stdout",
          "text": [
            "<class 'pandas.core.frame.DataFrame'>\n",
            "RangeIndex: 10127 entries, 0 to 10126\n",
            "Data columns (total 16 columns):\n",
            " #   Column                          Non-Null Count  Dtype \n",
            "---  ------                          --------------  ----- \n",
            " 0   Atividade                       10127 non-null  object\n",
            " 1   Idade                           10127 non-null  int64 \n",
            " 2   Genero                          10127 non-null  object\n",
            " 3   Dependentes                     10127 non-null  int64 \n",
            " 4   Escolaridade                    10127 non-null  object\n",
            " 5   Estado_civil                    10127 non-null  object\n",
            " 6   Renda                           10127 non-null  object\n",
            " 7   Categoria_Cartao                10127 non-null  object\n",
            " 8   Meses_cliente                   10127 non-null  int64 \n",
            " 9   Numero_de_Produtos              10127 non-null  int64 \n",
            " 10  Meses_inativos (ultimo ano)     10127 non-null  int64 \n",
            " 11  Numero_contatos (ultimo ano)    10127 non-null  int64 \n",
            " 12  Limite_Credito                  10127 non-null  int64 \n",
            " 13  Divida_Corrente                 10127 non-null  int64 \n",
            " 14  Limite_Disponivel               10127 non-null  int64 \n",
            " 15  Numero_transacoes (ultimo ano)  10127 non-null  int64 \n",
            "dtypes: int64(10), object(6)\n",
            "memory usage: 1.2+ MB\n"
          ]
        },
        {
          "output_type": "display_data",
          "data": {
            "text/plain": [
              "None"
            ]
          },
          "metadata": {}
        }
      ]
    },
    {
      "cell_type": "code",
      "source": [
        "#identificar colunas categóricas \n",
        "print(df_credito.dtypes)"
      ],
      "metadata": {
        "colab": {
          "base_uri": "https://localhost:8080/"
        },
        "id": "qZZkGacnJBuY",
        "outputId": "dfde6966-8494-466e-89cd-ea9d036b1271"
      },
      "execution_count": null,
      "outputs": [
        {
          "output_type": "stream",
          "name": "stdout",
          "text": [
            "Atividade                         object\n",
            "Idade                              int64\n",
            "Genero                            object\n",
            "Dependentes                        int64\n",
            "Escolaridade                      object\n",
            "Estado_civil                      object\n",
            "Renda                             object\n",
            "Categoria_Cartao                  object\n",
            "Meses_cliente                      int64\n",
            "Numero_de_Produtos                 int64\n",
            "Meses_inativos (ultimo ano)        int64\n",
            "Numero_contatos (ultimo ano)       int64\n",
            "Limite_Credito                     int64\n",
            "Divida_Corrente                    int64\n",
            "Limite_Disponivel                  int64\n",
            "Numero_transacoes (ultimo ano)     int64\n",
            "dtype: object\n"
          ]
        }
      ]
    },
    {
      "cell_type": "code",
      "source": [
        "#separação atributos e respostas\n",
        "atributos = df_credito.iloc[:, 0:15].values\n",
        "print(atributos)\n",
        "\n",
        "resposta = df_credito.iloc[:, 0].values\n",
        "display(resposta)\n",
        "\n"
      ],
      "metadata": {
        "colab": {
          "base_uri": "https://localhost:8080/",
          "height": 191
        },
        "id": "T2guHyOkKTmW",
        "outputId": "59567866-8997-4380-c517-99a8a7e86608"
      },
      "execution_count": null,
      "outputs": [
        {
          "output_type": "stream",
          "name": "stdout",
          "text": [
            "[['Cliente Ativo' 45 'M' ... 12691 777 11914]\n",
            " ['Cliente Ativo' 49 'F' ... 8256 864 7392]\n",
            " ['Cliente Ativo' 51 'M' ... 3418 0 3418]\n",
            " ...\n",
            " ['Cliente Perdido' 44 'F' ... 5409 0 5409]\n",
            " ['Cliente Perdido' 30 'M' ... 5281 0 5281]\n",
            " ['Cliente Perdido' 43 'F' ... 10388 1961 8427]]\n"
          ]
        },
        {
          "output_type": "display_data",
          "data": {
            "text/plain": [
              "array(['Cliente Ativo', 'Cliente Ativo', 'Cliente Ativo', ...,\n",
              "       'Cliente Perdido', 'Cliente Perdido', 'Cliente Perdido'],\n",
              "      dtype=object)"
            ]
          },
          "metadata": {}
        }
      ]
    },
    {
      "cell_type": "code",
      "source": [
        "#transformar categóricas em numéricas \n",
        "from sklearn.preprocessing import LabelEncoder \n",
        "\n",
        "labelencoder_atributos = LabelEncoder()"
      ],
      "metadata": {
        "id": "vdCG9uTvL2FN"
      },
      "execution_count": null,
      "outputs": []
    },
    {
      "cell_type": "code",
      "source": [
        "atributos[:,0] = labelencoder_atributos.fit_transform(atributos[:,0])\n",
        "atributos[:,2] = labelencoder_atributos.fit_transform(atributos[:,2])\n",
        "atributos[:,4] = labelencoder_atributos.fit_transform(atributos[:,4])\n",
        "atributos[:,5] = labelencoder_atributos.fit_transform(atributos[:,5])\n",
        "atributos[:,6] = labelencoder_atributos.fit_transform(atributos[:,6])\n",
        "atributos[:,7] = labelencoder_atributos.fit_transform(atributos[:,7])"
      ],
      "metadata": {
        "id": "Y4B21CpOMs-T"
      },
      "execution_count": null,
      "outputs": []
    },
    {
      "cell_type": "code",
      "source": [
        "labelencoder_resposta = LabelEncoder()\n",
        "\n",
        "resposta = labelencoder_resposta.fit_transform(resposta)\n",
        "print(resposta)\n",
        "print(labelencoder_resposta.classes_)"
      ],
      "metadata": {
        "colab": {
          "base_uri": "https://localhost:8080/"
        },
        "id": "aQzBjua56oEx",
        "outputId": "e8b9ad24-4503-4d99-fdd5-e769da5d591c"
      },
      "execution_count": null,
      "outputs": [
        {
          "output_type": "stream",
          "name": "stdout",
          "text": [
            "[0 0 0 ... 1 1 1]\n",
            "['Cliente Ativo' 'Cliente Perdido']\n"
          ]
        }
      ]
    },
    {
      "cell_type": "code",
      "source": [
        "#separação treino teste\n",
        "\n",
        "from sklearn.model_selection import train_test_split\n",
        "\n",
        "atributos_treinamento, atributos_teste, resposta_treinamento, resposta_teste = train_test_split(atributos, resposta, test_size=0.25, random_state=0)"
      ],
      "metadata": {
        "id": "nW-9LQTdOY00"
      },
      "execution_count": null,
      "outputs": []
    },
    {
      "cell_type": "code",
      "source": [
        "#importação do algoritmo\n",
        "\n",
        "from sklearn.naive_bayes import GaussianNB \n",
        "\n",
        "classificador_bayes = GaussianNB() "
      ],
      "metadata": {
        "id": "5BiTAT_j8lNh"
      },
      "execution_count": null,
      "outputs": []
    },
    {
      "cell_type": "code",
      "source": [
        "classificador_bayes.fit(atributos_treinamento, resposta_treinamento)\n",
        "\n",
        "classificacao = classificador_bayes.predict(atributos_teste)"
      ],
      "metadata": {
        "id": "tYFG_SdAAmyc"
      },
      "execution_count": null,
      "outputs": []
    },
    {
      "cell_type": "code",
      "source": [
        "#avaliação\n",
        "\n",
        "from sklearn.metrics import accuracy_score, confusion_matrix\n",
        "\n",
        "#acuracia\n",
        "taxa_acerto = accuracy_score(resposta_teste, classificacao)\n",
        "print(taxa_acerto)"
      ],
      "metadata": {
        "colab": {
          "base_uri": "https://localhost:8080/"
        },
        "id": "LKU7Voj1-xu5",
        "outputId": "302fb769-2e75-48ee-ff39-74af09cceff9"
      },
      "execution_count": null,
      "outputs": [
        {
          "output_type": "stream",
          "name": "stdout",
          "text": [
            "1.0\n"
          ]
        }
      ]
    },
    {
      "cell_type": "code",
      "source": [],
      "metadata": {
        "id": "1MnSpf7ZQvxx"
      },
      "execution_count": null,
      "outputs": []
    }
  ]
}